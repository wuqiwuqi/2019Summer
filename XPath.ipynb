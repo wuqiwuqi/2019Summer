{
 "cells": [
  {
   "cell_type": "code",
   "execution_count": 1,
   "metadata": {},
   "outputs": [
    {
     "name": "stdout",
     "output_type": "stream",
     "text": [
      "<html><body><div>\n",
      "    <ul>\n",
      "         <li class=\"item-0\"><a href=\"https://ask.hellobi.com/link1.html\">first item</a></li>\n",
      "         <li class=\"item-1\"><a href=\"https://ask.hellobi.com/link2.html\">second item</a></li>\n",
      "         <li class=\"item-inactive\"><a href=\"https://ask.hellobi.com/link3.html\">third item</a></li>\n",
      "         <li class=\"item-1\"><a href=\"https://ask.hellobi.com/link4.html\">fourth item</a></li>\n",
      "         <li class=\"item-0\"><a href=\"https://ask.hellobi.com/link5.html\">fifth item</a>\n",
      "     </li></ul>\n",
      " </div>\n",
      "</body></html>\n"
     ]
    }
   ],
   "source": [
    "from lxml import etree\n",
    "text = '''\n",
    "<div>\n",
    "    <ul>\n",
    "         <li class=\"item-0\"><a href=\"https://ask.hellobi.com/link1.html\">first item</a></li>\n",
    "         <li class=\"item-1\         <li class=\"item-inactive\"><a href=\"https://ask.hellobi.com/link3.html\">third item</a></li>\n",
    "         <li class=\"item-1\"><a href=\"https://ask.hellobi.com/link4.html\">fourth item</a></li>\n",
    "         <li class=\"item-0\"><a href=\"https://ask.hellobi.com/link5.html\">fifth item</a>\n",
    "     </ul>\n",
    " </div>\n",
    "'''\n",
    "html = etree.HTML(text)\n",
    "result = etree.tostring(html)\n",
    "print(result.decode('utf-8'))"
   ]
  },
  {
   "cell_type": "code",
   "execution_count": null,
   "metadata": {},
   "outputs": [],
   "source": []
  }
 ],
 "metadata": {
  "kernelspec": {
   "display_name": "Python 3",
   "language": "python",
   "name": "python3"
  },
  "language_info": {
   "codemirror_mode": {
    "name": "ipython",
    "version": 3
   },
   "file_extension": ".py",
   "mimetype": "text/x-python",
   "name": "python",
   "nbconvert_exporter": "python",
   "pygments_lexer": "ipython3",
   "version": "3.6.8"
  }
 },
 "nbformat": 4,
 "nbformat_minor": 2
}
